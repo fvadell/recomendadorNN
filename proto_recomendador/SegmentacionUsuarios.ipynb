{
 "cells": [
  {
   "cell_type": "code",
   "execution_count": null,
   "metadata": {},
   "outputs": [],
   "source": [
    "%load_ext autoreload\n",
    "%autoreload 2"
   ]
  },
  {
   "cell_type": "code",
   "execution_count": null,
   "metadata": {},
   "outputs": [],
   "source": [
    "import pandas as pd\n",
    "import numpy as np\n",
    "from sklearn.manifold import TSNE\n",
    "import plotly.express as px"
   ]
  },
  {
   "cell_type": "code",
   "execution_count": null,
   "metadata": {},
   "outputs": [],
   "source": [
    "def plotear_scatter(X, cat_color, size = 3):\n",
    "    X['score'] = X['score'].fillna(0)\n",
    "    X['dummy_column_for_size'] = X['score']*20\n",
    "    fig = px.scatter(X, \n",
    "                     x=\"tsne_x\", \n",
    "                     y=\"tsne_y\", \n",
    "                     color=cat_color, \n",
    "                     hover_data=['Alquiler_rel', 'Alquiler temporal_rel', 'leads_count', 'precision_busqueda', 'precision_barriofav', 'hits_count', 'ctr'],\n",
    "                     size = 'dummy_column_for_size',\n",
    "                     size_max=size)\n",
    "    fig.show()"
   ]
  },
  {
   "cell_type": "code",
   "execution_count": null,
   "metadata": {},
   "outputs": [],
   "source": [
    "train_tsne = False\n",
    "train_tree = False\n",
    "save_output = False\n",
    "portal = 'ZPAR'\n",
    "dt_file_name = 'decision_tree.pkl'\n",
    "data_file = '../../Data/recscores/recscores_ZPAR_2022-03-20.csv'\n",
    "data_with_embeddings = 'data_{}.pkl'.format(portal)\n",
    "decision_tree_depth = 4\n",
    "number_of_clusters = 8"
   ]
  },
  {
   "cell_type": "code",
   "execution_count": null,
   "metadata": {},
   "outputs": [],
   "source": [
    "df = pd.read_csv(data_file, index_col = 0)\n",
    "print(\"Cargado {}\".format(data_file))\n",
    "for col in df.columns:\n",
    "    if df[col].dtype == 'O':\n",
    "        df[col] = df[col].fillna('Desconocido')\n",
    "    else:\n",
    "        df[col] = df[col].fillna(0)"
   ]
  },
  {
   "cell_type": "code",
   "execution_count": null,
   "metadata": {},
   "outputs": [],
   "source": [
    "# Saco los leads_count que son '-'\n",
    "df.leads_count = df.leads_count.astype(float).astype(int)"
   ]
  },
  {
   "cell_type": "code",
   "execution_count": null,
   "metadata": {},
   "outputs": [],
   "source": [
    "df['dummy_column_for_size'] = 1"
   ]
  },
  {
   "cell_type": "code",
   "execution_count": null,
   "metadata": {},
   "outputs": [],
   "source": [
    "df.hits_count = df.hits_count.astype(str)\n",
    "df['hits_count']=df.hits_count.str.replace(',', '')\n",
    "df['hits_count']= df['hits_count'].astype('int')"
   ]
  },
  {
   "cell_type": "code",
   "execution_count": null,
   "metadata": {},
   "outputs": [],
   "source": [
    "df['ctr'] = df['leads_count']/df['hits_count']\n",
    "df['ctr'] = np.sqrt(df['ctr'].apply(lambda x: min(x,1))) # Techo en 1"
   ]
  },
  {
   "cell_type": "code",
   "execution_count": null,
   "metadata": {},
   "outputs": [],
   "source": [
    "features = ['Alquiler_rel', 'Alquiler temporal_rel', 'ctr', 'precision_operacionfav', 'precision_precio', 'precision_barriofav']"
   ]
  },
  {
   "cell_type": "code",
   "execution_count": null,
   "metadata": {},
   "outputs": [],
   "source": [
    "df['Train'] = np.random.random(len(df))<0.8\n",
    "\n",
    "test = df[df['Train']==False]\n",
    "train = df[df['Train']]"
   ]
  },
  {
   "cell_type": "code",
   "execution_count": null,
   "metadata": {},
   "outputs": [],
   "source": [
    "X = train[features]"
   ]
  },
  {
   "cell_type": "code",
   "execution_count": null,
   "metadata": {},
   "outputs": [],
   "source": [
    "if train_tsne:\n",
    "    print(\"Entrenando TSNE para {} usuarios\".format(len(X)))\n",
    "    X_embedded = TSNE(n_components=2, init='random', perplexity = 500, random_state = 3).fit_transform(X)\n",
    "    X = pd.concat([train.reset_index(drop=True), pd.DataFrame(X_embedded)], axis=1)\n",
    "    X.rename(columns={0:'tsne_x', 1:'tsne_y'}, inplace = True)\n",
    "else:\n",
    "    print(\"Usando datos guardados en {}\".format(data_with_embeddings))\n",
    "    X = pd.read_pickle(data_with_embeddings)"
   ]
  },
  {
   "cell_type": "code",
   "execution_count": null,
   "metadata": {
    "scrolled": false
   },
   "outputs": [],
   "source": [
    "for cat in features + [\"operacion_favorita\"]:\n",
    "    plotear_scatter(X, cat, size=4)"
   ]
  },
  {
   "cell_type": "markdown",
   "metadata": {},
   "source": [
    "### K Means"
   ]
  },
  {
   "cell_type": "code",
   "execution_count": null,
   "metadata": {},
   "outputs": [],
   "source": [
    "import pandas as pd"
   ]
  },
  {
   "cell_type": "code",
   "execution_count": null,
   "metadata": {},
   "outputs": [],
   "source": [
    "features = ['Alquiler_rel', 'Alquiler temporal_rel', 'ctr', 'precision_operacionfav', 'precision_precio', 'precision_barriofav']"
   ]
  },
  {
   "cell_type": "code",
   "execution_count": null,
   "metadata": {},
   "outputs": [],
   "source": [
    "from sklearn.cluster import KMeans\n",
    "\n",
    "%time kmeans = KMeans(n_clusters=number_of_clusters, random_state=0, n_init = 50).fit(X[features])"
   ]
  },
  {
   "cell_type": "code",
   "execution_count": null,
   "metadata": {},
   "outputs": [],
   "source": [
    "X['label_Km'] = kmeans.labels_"
   ]
  },
  {
   "cell_type": "markdown",
   "metadata": {},
   "source": [
    "### Decision Tree"
   ]
  },
  {
   "cell_type": "code",
   "execution_count": null,
   "metadata": {},
   "outputs": [],
   "source": [
    "from sklearn.tree import DecisionTreeClassifier\n",
    "from sklearn import tree\n",
    "#import plotly.express as px\n",
    "import pickle"
   ]
  },
  {
   "cell_type": "code",
   "execution_count": null,
   "metadata": {},
   "outputs": [],
   "source": [
    "def save_model(model, file_name):\n",
    "    with open(file_name, 'wb') as file:\n",
    "        pickle.dump(model, file) \n",
    "        \n",
    "def load_model(file_name):\n",
    "    with open(file_name, 'rb') as file:\n",
    "        model = pickle.load(file)\n",
    "        return model"
   ]
  },
  {
   "cell_type": "code",
   "execution_count": null,
   "metadata": {
    "scrolled": false
   },
   "outputs": [],
   "source": [
    "if train_tree:\n",
    "    dtree = DecisionTreeClassifier(max_depth = decision_tree_depth, min_samples_leaf = 100)\n",
    "    dtree = dtree.fit(X[features], X['label_Km'])\n",
    "    save_model(dtree, dt_file_name)\n",
    "    print('Arbol de decision guardado en {}'.format(dt_file_name))\n",
    "else:\n",
    "    dtree = load_model(dt_file_name)\n",
    "    print('Arbol de decision cargado de {}'.format(dt_file_name))\n",
    "\n",
    "X['pred_label_km'] = dtree.predict(X[features])\n",
    "X['pred_label_km'] = X['pred_label_km'].astype(str)\n",
    "X['label_Km'] = X['label_Km'].astype(str)\n",
    "\n",
    "for i in [\"label_Km\", \"pred_label_km\"]:\n",
    "    plotear_scatter(X, i, size = 5)"
   ]
  },
  {
   "cell_type": "code",
   "execution_count": null,
   "metadata": {},
   "outputs": [],
   "source": [
    "import graphviz\n",
    "# DOT data\n",
    "dot_data = tree.export_graphviz(dtree,\n",
    "                                out_file=None,\n",
    "                                feature_names=features,\n",
    "                                class_names=[str(i) for i in range(10)], filled = True)\n",
    "\n",
    "# Draw graph\n",
    "graph = graphviz.Source(dot_data, format=\"png\")\n",
    "graph.save('decision_tree.dot')\n",
    "graph"
   ]
  },
  {
   "cell_type": "code",
   "execution_count": null,
   "metadata": {},
   "outputs": [],
   "source": [
    "import pydot\n",
    "\n",
    "(_,) = pydot.graph_from_dot_file('decision_tree.dot')\n",
    "_.write_png('decision_tree.png')"
   ]
  },
  {
   "cell_type": "code",
   "execution_count": null,
   "metadata": {},
   "outputs": [],
   "source": [
    "X[features+['pred_label_km']].groupby('pred_label_km').agg(['mean', 'count'])"
   ]
  },
  {
   "cell_type": "code",
   "execution_count": null,
   "metadata": {},
   "outputs": [],
   "source": [
    "test['pred_label_km'] = dtree.predict(test[features])\n",
    "test['pred_label_km'] = test['pred_label_km'].astype(str)\n",
    "\n",
    "train['pred_label_km'] = dtree.predict(train[features])\n",
    "train['pred_label_km'] = train['pred_label_km'].astype(str)"
   ]
  },
  {
   "cell_type": "code",
   "execution_count": null,
   "metadata": {},
   "outputs": [],
   "source": [
    "test[features+['pred_label_km']].groupby('pred_label_km').agg(['mean', 'count'])"
   ]
  },
  {
   "cell_type": "code",
   "execution_count": null,
   "metadata": {},
   "outputs": [],
   "source": [
    "test['label_Km'] = kmeans.predict(test[features])\n",
    "train['label_Km'] = kmeans.predict(train[features])"
   ]
  },
  {
   "cell_type": "code",
   "execution_count": null,
   "metadata": {},
   "outputs": [],
   "source": [
    "test['Correct'] = (test['label_Km']==test['pred_label_km'].astype('int'))\n",
    "train['Correct'] = (train['label_Km']==train['pred_label_km'].astype('int'))"
   ]
  },
  {
   "cell_type": "code",
   "execution_count": null,
   "metadata": {},
   "outputs": [],
   "source": [
    "train.groupby('label_Km')['Correct'].agg(['mean', 'count'])"
   ]
  },
  {
   "cell_type": "code",
   "execution_count": null,
   "metadata": {},
   "outputs": [],
   "source": [
    "test.groupby('label_Km')['Correct'].agg(['mean', 'count'])"
   ]
  },
  {
   "cell_type": "code",
   "execution_count": null,
   "metadata": {},
   "outputs": [],
   "source": [
    "if save_output:\n",
    "    print(\"Grabando datos\")\n",
    "    X.to_pickle(\"./{}.pkl\".format(data_with_embeddings))\n",
    "else:\n",
    "    print(\"Los datos no se grabaron\")"
   ]
  },
  {
   "cell_type": "code",
   "execution_count": null,
   "metadata": {},
   "outputs": [],
   "source": []
  },
  {
   "cell_type": "code",
   "execution_count": null,
   "metadata": {},
   "outputs": [],
   "source": [
    "X"
   ]
  }
 ],
 "metadata": {
  "kernelspec": {
   "display_name": "base",
   "language": "python",
   "name": "base"
  },
  "language_info": {
   "codemirror_mode": {
    "name": "ipython",
    "version": 3
   },
   "file_extension": ".py",
   "mimetype": "text/x-python",
   "name": "python",
   "nbconvert_exporter": "python",
   "pygments_lexer": "ipython3",
   "version": "3.9.7"
  }
 },
 "nbformat": 4,
 "nbformat_minor": 4
}
