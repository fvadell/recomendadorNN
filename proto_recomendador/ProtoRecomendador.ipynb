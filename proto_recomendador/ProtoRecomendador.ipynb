{
 "cells": [
  {
   "cell_type": "code",
   "execution_count": null,
   "metadata": {},
   "outputs": [],
   "source": [
    "import numpy as np\n",
    "import pandas as pd\n",
    "import torch\n",
    "from sklearn.preprocessing import PolynomialFeatures\n",
    "from modelo_cuadratico import modelo_cuadratico"
   ]
  },
  {
   "cell_type": "markdown",
   "metadata": {},
   "source": [
    "### Funcioncitas"
   ]
  },
  {
   "cell_type": "code",
   "execution_count": null,
   "metadata": {},
   "outputs": [],
   "source": [
    "def position_of_item(itemid:int, matrix:pd.DataFrame):\n",
    "    \"\"\"\n",
    "    Busca la posicion de un itemid en las columnas de la matriz de interacciones\n",
    "    \"\"\"\n",
    "    try:\n",
    "        pos = np.where(matrix.columns==itemid)[0].item()\n",
    "    except:\n",
    "        pos = None\n",
    "    return pos\n",
    "\n",
    "def position_of_user(userid:int, matrix:pd.DataFrame):\n",
    "    \"\"\"\n",
    "    Busca la posicion de un userid en las filas de la matriz de interacciones\n",
    "    \"\"\"\n",
    "    try:\n",
    "        pos = np.where(matrix.index==userid)[0].item()\n",
    "    except:\n",
    "        pos = None\n",
    "    return pos"
   ]
  },
  {
   "cell_type": "code",
   "execution_count": null,
   "metadata": {},
   "outputs": [],
   "source": [
    "def itemid_of_position(position:int, matrix:pd.DataFrame):\n",
    "    \"\"\"\n",
    "    Busca el itemid de la posicion dada en la matriz de interacciones\n",
    "    \"\"\"\n",
    "    try:\n",
    "        itemid = matrix.columns[position]\n",
    "    except:\n",
    "        itemid = None\n",
    "    return itemid\n",
    "\n",
    "def userid_of_position(position:int, matrix:pd.DataFrame):\n",
    "    \"\"\"\n",
    "    Busca el userid de la posicion dada en la matriz de interacciones\n",
    "    \"\"\"\n",
    "    try:\n",
    "        userid = matrix.index[position]\n",
    "    except:\n",
    "        userid = None\n",
    "    return userid"
   ]
  },
  {
   "cell_type": "markdown",
   "metadata": {},
   "source": [
    "### Proto Recomendador\n",
    "Esta notebook está basada en el paper A Recommendation Model Based on Deep Neural Network del autor LIBO ZHANG"
   ]
  },
  {
   "cell_type": "markdown",
   "metadata": {},
   "source": [
    "#### Prueba con datos creados"
   ]
  },
  {
   "cell_type": "code",
   "execution_count": null,
   "metadata": {},
   "outputs": [],
   "source": [
    "n_users = 50\n",
    "n_items = 100\n",
    "# TODO: Si a y b no son iguales se rompe. Ver por qué.\n",
    "a = 20\n",
    "b = 20\n",
    "sparce_rate = .9 # Qué tan dispersa es la matriz de ratings de ejemplo\n",
    "\n",
    "# Inicializo la matriz de interacciones y pongo -1 en muchos lugares\n",
    "# El -1 representa las interacciones que no conocemos o no sucedieron. Ej: las peliculas que no vio el usuario.\n",
    "ratings = np.random.randint(0, 2, n_users*n_items).reshape(n_users,n_items)\n",
    "aux = np.random.rand(ratings.shape[0], ratings.shape[1])\n",
    "ratings[aux<sparce_rate] = -1\n",
    "ratings = torch.from_numpy(ratings)"
   ]
  },
  {
   "cell_type": "code",
   "execution_count": null,
   "metadata": {},
   "outputs": [],
   "source": [
    "model = modelo_cuadratico(a, b, n_users, n_items)"
   ]
  },
  {
   "cell_type": "code",
   "execution_count": null,
   "metadata": {},
   "outputs": [],
   "source": [
    "%time R = model.entrenar(ratings)"
   ]
  },
  {
   "cell_type": "markdown",
   "metadata": {},
   "source": [
    "#### Prueba con datos de MovieLens"
   ]
  },
  {
   "cell_type": "markdown",
   "metadata": {},
   "source": [
    "Uso el dataset de MovieLens 1M (https://grouplens.org/datasets/movielens/1m/).\n",
    "Para correr esta notebook hay que bajarlo, descomprimirlo y apuntar los siguientes paths a los archivos correspondientes"
   ]
  },
  {
   "cell_type": "code",
   "execution_count": null,
   "metadata": {},
   "outputs": [],
   "source": [
    "user_data = '../../MovieLens/data/users.dat'\n",
    "movie_data = '../../MovieLens/data/movies.dat'\n",
    "ratings_data = '../../MovieLens/data/ratings.dat'"
   ]
  },
  {
   "cell_type": "code",
   "execution_count": null,
   "metadata": {},
   "outputs": [],
   "source": [
    "users = pd.read_csv(user_data, sep = '::', header = None, names = ['UserId', 'Gender', 'AgeGroup', 'Occupation', 'Zip'], encoding = 'latin-1')\n",
    "movies = pd.read_csv(movie_data, sep = '::', header = None, names = ['MovieId', 'Title', 'Genre'], encoding = 'latin-1')\n",
    "ratings_data = pd.read_csv(ratings_data, sep = '::', header = None, names = ['UserId', 'MovieId', 'Rating', 'Timestamp'], encoding = 'latin-1')"
   ]
  },
  {
   "cell_type": "code",
   "execution_count": null,
   "metadata": {},
   "outputs": [],
   "source": [
    "ratings_data.head()"
   ]
  },
  {
   "cell_type": "code",
   "execution_count": null,
   "metadata": {},
   "outputs": [],
   "source": [
    "ratings_data['Match'] = (ratings_data['Rating']>=4).astype(int) # Considero un match si el ratings es 4 o más (esto es bastante burdo pero es para probar)"
   ]
  },
  {
   "cell_type": "code",
   "execution_count": null,
   "metadata": {},
   "outputs": [],
   "source": [
    "ratings_df = ratings_data.pivot(index='UserId',\n",
    "                                 columns='MovieId',\n",
    "                                 values='Match').fillna(-1)"
   ]
  },
  {
   "cell_type": "code",
   "execution_count": null,
   "metadata": {},
   "outputs": [],
   "source": [
    "ratings_df.head()"
   ]
  },
  {
   "cell_type": "code",
   "execution_count": null,
   "metadata": {},
   "outputs": [],
   "source": [
    "ratings_matrix = ratings_df.to_numpy()"
   ]
  },
  {
   "cell_type": "code",
   "execution_count": null,
   "metadata": {},
   "outputs": [],
   "source": [
    "n_users = ratings_data.UserId.nunique()\n",
    "n_items = ratings_data.MovieId.nunique()\n",
    "a = 20\n",
    "b = 20\n",
    "l = a + b\n",
    "ratings = ratings_matrix.copy()\n",
    "ratings = torch.from_numpy(ratings)"
   ]
  },
  {
   "cell_type": "code",
   "execution_count": null,
   "metadata": {},
   "outputs": [],
   "source": [
    "model = modelo_cuadratico(a, b, n_users, n_items)"
   ]
  },
  {
   "cell_type": "markdown",
   "metadata": {},
   "source": [
    "### Entrenamiento Regresión Cuadrática"
   ]
  },
  {
   "cell_type": "code",
   "execution_count": null,
   "metadata": {},
   "outputs": [],
   "source": [
    "%time R = model.entrenar(ratings, lr = 0.1)"
   ]
  }
 ],
 "metadata": {
  "kernelspec": {
   "display_name": "RecomendadorNN",
   "language": "python",
   "name": "recomendadornn"
  },
  "language_info": {
   "codemirror_mode": {
    "name": "ipython",
    "version": 3
   },
   "file_extension": ".py",
   "mimetype": "text/x-python",
   "name": "python",
   "nbconvert_exporter": "python",
   "pygments_lexer": "ipython3",
   "version": "3.7.13"
  }
 },
 "nbformat": 4,
 "nbformat_minor": 2
}
