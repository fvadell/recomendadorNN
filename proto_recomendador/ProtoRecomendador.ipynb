{
 "cells": [
  {
   "cell_type": "code",
   "execution_count": null,
   "metadata": {},
   "outputs": [],
   "source": [
    "%load_ext autoreload\n",
    "%autoreload 2"
   ]
  },
  {
   "cell_type": "code",
   "execution_count": null,
   "metadata": {},
   "outputs": [],
   "source": [
    "import numpy as np\n",
    "import pandas as pd\n",
    "import torch\n",
    "from sklearn.preprocessing import PolynomialFeatures\n",
    "from modelo_cuadratico import modelo_cuadratico"
   ]
  },
  {
   "cell_type": "code",
   "execution_count": null,
   "metadata": {},
   "outputs": [],
   "source": [
    "run_test = False # Si está en True se va a hacer una prueba inicial con datos sintéticos\n",
    "load_model = True # Si está en True no se va a entrenar y va a cargar los pesos load_weights_file\n",
    "save_model = False # Si está en True se van a guardar los pesos luego de entrenar en save_weights_file\n",
    "load_weights_file = \"model.pt\" # Archivo con los pesos guardados.\n",
    "save_weights_file = \"model.pt\" # Archivo donde se guardan los pesos "
   ]
  },
  {
   "cell_type": "markdown",
   "metadata": {},
   "source": [
    "### Proto Recomendador\n",
    "Esta notebook está basada en el paper A Recommendation Model Based on Deep Neural Network del autor LIBO ZHANG"
   ]
  },
  {
   "cell_type": "markdown",
   "metadata": {},
   "source": [
    "#### Prueba con datos sintéticos"
   ]
  },
  {
   "cell_type": "code",
   "execution_count": null,
   "metadata": {},
   "outputs": [],
   "source": [
    "if not run_test: print(\"run_test = False -> No se va a correr el test\")"
   ]
  },
  {
   "cell_type": "code",
   "execution_count": null,
   "metadata": {},
   "outputs": [],
   "source": [
    "if run_test:\n",
    "    n_users = 50\n",
    "    n_items = 100\n",
    "    a = 10\n",
    "    b = 20\n",
    "    sparce_rate = .9 # Qué tan dispersa es la matriz de ratings de ejemplo\n",
    "\n",
    "    # Inicializo la matriz de interacciones y pongo -1 en muchos lugares\n",
    "    # El -1 representa las interacciones que no conocemos o no sucedieron. Ej: las peliculas que no vio el usuario.\n",
    "    ratings = np.random.randint(0, 2, n_users*n_items).reshape(n_users,n_items)\n",
    "    aux = np.random.rand(ratings.shape[0], ratings.shape[1])\n",
    "    ratings[aux<sparce_rate] = -1\n",
    "    ratings_df = pd.DataFrame(ratings)\n",
    "    ratings_df.columns = list(ratings_df.columns + 1)\n",
    "    ratings_df.index = list(ratings_df.index + 1)\n",
    "    ratings = torch.from_numpy(ratings)\n",
    "    \n",
    "    model = modelo_cuadratico(a, b, n_users, n_items, ratings_df)"
   ]
  },
  {
   "cell_type": "code",
   "execution_count": null,
   "metadata": {},
   "outputs": [],
   "source": [
    "%time if run_test: R = model.entrenar(ratings)"
   ]
  },
  {
   "cell_type": "markdown",
   "metadata": {},
   "source": [
    "#### Prueba con datos de MovieLens"
   ]
  },
  {
   "cell_type": "markdown",
   "metadata": {},
   "source": [
    "Uso el dataset de MovieLens 1M (https://grouplens.org/datasets/movielens/1m/).\n",
    "Para correr esta notebook hay que bajarlo, descomprimirlo y apuntar los siguientes paths a los archivos correspondientes"
   ]
  },
  {
   "cell_type": "code",
   "execution_count": null,
   "metadata": {},
   "outputs": [],
   "source": [
    "user_data = '../../MovieLens/data/users.dat'\n",
    "movie_data = '../../MovieLens/data/movies.dat'\n",
    "ratings_data = '../../MovieLens/data/ratings.dat'"
   ]
  },
  {
   "cell_type": "code",
   "execution_count": null,
   "metadata": {},
   "outputs": [],
   "source": [
    "users = pd.read_csv(user_data, sep = '::', header = None, names = ['UserId', 'Gender', 'AgeGroup', 'Occupation', 'Zip'], encoding = 'latin-1')\n",
    "movies = pd.read_csv(movie_data, sep = '::', header = None, names = ['MovieId', 'Title', 'Genre'], encoding = 'latin-1')\n",
    "ratings_data = pd.read_csv(ratings_data, sep = '::', header = None, names = ['UserId', 'MovieId', 'Rating', 'Timestamp'], encoding = 'latin-1')"
   ]
  },
  {
   "cell_type": "code",
   "execution_count": null,
   "metadata": {},
   "outputs": [],
   "source": [
    "ratings_data.head()"
   ]
  },
  {
   "cell_type": "code",
   "execution_count": null,
   "metadata": {},
   "outputs": [],
   "source": [
    "ratings_data['Match'] = (ratings_data['Rating']>=4).astype(int) # Considero un match si el ratings es 4 o más (esto es bastante burdo pero es para probar)"
   ]
  },
  {
   "cell_type": "code",
   "execution_count": null,
   "metadata": {},
   "outputs": [],
   "source": [
    "ratings_df = ratings_data.pivot(index='UserId',\n",
    "                                 columns='MovieId',\n",
    "                                 values='Match').fillna(-1)"
   ]
  },
  {
   "cell_type": "code",
   "execution_count": null,
   "metadata": {},
   "outputs": [],
   "source": [
    "ratings_df.head()"
   ]
  },
  {
   "cell_type": "code",
   "execution_count": null,
   "metadata": {},
   "outputs": [],
   "source": [
    "ratings_matrix = ratings_df.to_numpy()"
   ]
  },
  {
   "cell_type": "code",
   "execution_count": null,
   "metadata": {},
   "outputs": [],
   "source": [
    "n_users = ratings_data.UserId.nunique()\n",
    "n_items = ratings_data.MovieId.nunique()\n",
    "a = 16\n",
    "b = 20\n",
    "l = a + b\n",
    "ratings = ratings_matrix.copy()\n",
    "ratings = torch.from_numpy(ratings)"
   ]
  },
  {
   "cell_type": "code",
   "execution_count": null,
   "metadata": {},
   "outputs": [],
   "source": [
    "model = modelo_cuadratico(a, b, n_users, n_items, ratings_df)"
   ]
  },
  {
   "cell_type": "markdown",
   "metadata": {},
   "source": [
    "### Entrenamiento Regresión Cuadrática"
   ]
  },
  {
   "cell_type": "code",
   "execution_count": null,
   "metadata": {},
   "outputs": [],
   "source": [
    "if load_model: print(\"No se va a entrenar el modelo. Se va a cargar de {}\".format(load_weights_file))"
   ]
  },
  {
   "cell_type": "code",
   "execution_count": null,
   "metadata": {},
   "outputs": [],
   "source": [
    "if load_model:\n",
    "    model.load_weights(load_weights_file)\n",
    "else:\n",
    "    %time R = model.entrenar(ratings, lr = 0.1)\n",
    "    if save_weights:\n",
    "        model.save_weights(save_weights_file)"
   ]
  }
 ],
 "metadata": {
  "kernelspec": {
   "display_name": "RecomendadorNN",
   "language": "python",
   "name": "recomendadornn"
  },
  "language_info": {
   "codemirror_mode": {
    "name": "ipython",
    "version": 3
   },
   "file_extension": ".py",
   "mimetype": "text/x-python",
   "name": "python",
   "nbconvert_exporter": "python",
   "pygments_lexer": "ipython3",
   "version": "3.7.13"
  }
 },
 "nbformat": 4,
 "nbformat_minor": 2
}
