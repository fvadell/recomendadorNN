{
 "cells": [
  {
   "cell_type": "code",
   "execution_count": null,
   "metadata": {},
   "outputs": [],
   "source": [
    "import numpy as np\n",
    "import torch\n",
    "from sklearn.preprocessing import PolynomialFeatures\n",
    "import matplotlib.pyplot as plt"
   ]
  },
  {
   "cell_type": "markdown",
   "metadata": {},
   "source": [
    "### Funcioncitas"
   ]
  },
  {
   "cell_type": "code",
   "execution_count": null,
   "metadata": {},
   "outputs": [],
   "source": [
    "def broadcast_0darray(a:np.ndarray, times_x, times_y):\n",
    "    a = np.repeat(a[:, np.newaxis], times_x, axis=0)\n",
    "    a = np.repeat(a[:, np.newaxis], times_y, axis=1).squeeze()\n",
    "    return a"
   ]
  },
  {
   "cell_type": "code",
   "execution_count": null,
   "metadata": {},
   "outputs": [],
   "source": [
    "def calculate_weighted_matrix_multiplication(W:torch.Tensor, M_1: torch.Tensor, M_2: torch.Tensor):\n",
    "    a = M_1.shape[1]\n",
    "    WM_1 = W[:a,a:]@M_1.transpose(0,1)\n",
    "    WM_1M_2 = WM_1.transpose(0,1)@M_2.transpose(0,1)\n",
    "    return WM_1M_2"
   ]
  },
  {
   "cell_type": "code",
   "execution_count": null,
   "metadata": {},
   "outputs": [],
   "source": [
    "def calculate_linear_weighted_features(M:torch.Tensor, w: torch.Tensor):\n",
    "    \"\"\" Calcula Suma(i=1, a)wi Uui\"\"\"\n",
    "    if M.shape[1] != w.shape[0]:\n",
    "        raise Exception(\"calculate_linear_weighted_features: las matrices no se pueden multiplicar. Chequear la dimension.\")\n",
    "    else:\n",
    "        return (M@w.reshape(-1,1))"
   ]
  },
  {
   "cell_type": "code",
   "execution_count": null,
   "metadata": {},
   "outputs": [],
   "source": [
    "def calculate_weighted_interactions(M: torch.Tensor, W: torch.Tensor):\n",
    "    \"\"\" Calcula las interacciones de cada fila de M ponderadas con W.\n",
    "    Es una implementacion de la siguiente formula\n",
    "    Suma(i=1, a-1)Suma(j=i+1, a) W_ij Uui Uuj\n",
    "    \"\"\"\n",
    "    if M.shape[1]!=W.shape[0]:\n",
    "        raise Exception(\"calculate_weighted_interactions: Las matrices M y W no se pueden multiplicar.\")\n",
    "    if W.shape[0]!=W.shape[1]:\n",
    "        raise Exception(\"calculate_weighted_interactions: La matriz de pesos no es cuadrada.\")\n",
    "    \n",
    "    M_interactions = calculate_interactions(M)\n",
    "    upper_W = get_upper_triangle_matrix(W)\n",
    "    M_weighted_interactions = (M_interactions@upper_W).reshape(-1,1)\n",
    "    return M_weighted_interactions"
   ]
  },
  {
   "cell_type": "code",
   "execution_count": null,
   "metadata": {},
   "outputs": [],
   "source": [
    "def get_upper_triangle_matrix(M: torch.Tensor):\n",
    "    \"\"\"Devuelve los elementos de la triangular superior sin la diagonal. \n",
    "    Esos elementos se aplastar a un array 1D\n",
    "    Si M es la matriz de 3x3\n",
    "    1 2 3\n",
    "    4 5 6\n",
    "    7 8 9\n",
    "    La salida es el array [2,3,6]\n",
    "    \"\"\"\n",
    "    if (M.shape[0]!=M.shape[1]):\n",
    "       raise Exception(\"get_upper_triangle_matrix: La matriz no es cuadrada\")\n",
    "    else:\n",
    "        out_size = M.shape[0]\n",
    "        return M[np.triu_indices(out_size, k = 1)]"
   ]
  },
  {
   "cell_type": "code",
   "execution_count": null,
   "metadata": {},
   "outputs": [],
   "source": [
    "def calculate_interactions(M: torch.Tensor):\n",
    "    interaction = PolynomialFeatures(include_bias=False, interaction_only=True)\n",
    "    M_interactions = interaction.fit_transform(M)\n",
    "    M_interactions = M_interactions[:,M.shape[1]:] # Me quedo unicamente con las interacciones de tipo xy, xz, yz\n",
    "    return M_interactions"
   ]
  },
  {
   "cell_type": "code",
   "execution_count": null,
   "metadata": {},
   "outputs": [],
   "source": [
    "def init_indicator_matrix(ratings: torch.Tensor):\n",
    "    \"\"\" Recibe la matriz de interacciones y\n",
    "    devuelve la matriz indicadora del mismo tamaño que tiene\n",
    "    0 donde la matriz de interacciones tiene -1 y 1 en todos los demás lugares\n",
    "    \"\"\"\n",
    "    indicator = torch.ones((ratings.shape[0], ratings.shape[1]))\n",
    "    indicator[np.where(ratings == -1)] = 0\n",
    "    return indicator"
   ]
  },
  {
   "cell_type": "code",
   "execution_count": null,
   "metadata": {},
   "outputs": [],
   "source": [
    "def plot_loss(loss_tracker: list):\n",
    "    x = np.arange(0,len(loss_tracker)*100, 100)[1:]\n",
    "    y = loss_tracker[1:]\n",
    "\n",
    "    plt.plot(x, y, linewidth=2)\n",
    "    plt.grid(alpha=.4)\n",
    "    plt.xlabel(\"Epoch\")\n",
    "    plt.ylabel(\"MSE\")\n",
    "    plt.show()"
   ]
  },
  {
   "cell_type": "code",
   "execution_count": null,
   "metadata": {},
   "outputs": [],
   "source": [
    "def entrenar_regresion(ratings, U, V, W, p, q, z, lr = 0.01, epochs = 10**6):\n",
    "    loss_tracker = []\n",
    "    L_anterior = 0\n",
    "    L_nuevo = 0\n",
    "\n",
    "    for i in range(epochs):\n",
    "        L_anterior = L_nuevo\n",
    "        # Forward Pass\n",
    "        p_broad = torch.broadcast_to(p, (-1, n_items))\n",
    "        q_broad = torch.broadcast_to(q, (-1, n_users)).transpose(0,1)\n",
    "        z_broad = torch.broadcast_to(z, (n_users, n_items))\n",
    "        R_uv = z_broad + p_broad + q_broad + calculate_weighted_matrix_multiplication(W,U,V)\n",
    "        L_nuevo = ((ratings[ratings!=-1]-R_uv[ratings!=-1])**2).mean()/2 # Calculo función perdida sólo para los datos conocidos\n",
    "        L_diferencia = (L_anterior - L_nuevo).item()\n",
    "\n",
    "        mae = (torch.absolute(ratings[ratings!=-1]-R_uv[ratings!=-1])).mean()\n",
    "\n",
    "        if (i%500==0):\n",
    "            print(\"Epoch {} Loss: {}  MAE: {}\".format(i, L_nuevo, mae), end = \"\\r\")\n",
    "        if (i%1000==0):\n",
    "            loss_tracker.append(L_nuevo.item())\n",
    "\n",
    "        if (L_diferencia < 0.0000001)&(i>100):\n",
    "            print(\"\\nEarly stopping en epoch {}\".format(i))\n",
    "            break\n",
    "\n",
    "        delta_uv = indicator*(R_uv-ratings)\n",
    "        # Update z\n",
    "        z = z - lr*(delta_uv.mean())\n",
    "        # Update p\n",
    "        p = p - lr*(delta_uv.mean(axis=1).reshape(n_users,-1))\n",
    "        # Update q\n",
    "        q = q - lr*(delta_uv.mean(axis=0).reshape(n_items,-1))\n",
    "        # Update U\n",
    "        U = U - lr * (delta_uv@(W[:a,a:]@V.transpose(0,1)).transpose(0,1))/(n_items*b)\n",
    "        # Update V\n",
    "        V = V - lr * ((W[:a,a:]@U.transpose(0,1))@delta_uv).transpose(0,1)/(n_users*a)\n",
    "        # Update W (O la parte de W que se va a usar)\n",
    "        W[:a,a:] = W[:a,a:] - lr * ((delta_uv.transpose(0,1)@U).transpose(0,1)@V)/(n_users*n_items)\n",
    "    \n",
    "    acc = 1-torch.absolute(torch.round(R_uv[ratings!=-1])-ratings[ratings!=-1]).mean()\n",
    "    print(\"Accuracy: {}\".format(acc))\n",
    "    plot_loss(loss_tracker)"
   ]
  },
  {
   "cell_type": "markdown",
   "metadata": {},
   "source": [
    "### Proto Recomendador\n",
    "Esta notebook está basada en el paper A Recommendation Model Based on Deep Neural Network del autor LIBO ZHANG"
   ]
  },
  {
   "cell_type": "code",
   "execution_count": null,
   "metadata": {},
   "outputs": [],
   "source": [
    "n_users = 50\n",
    "n_items = 100\n",
    "# TODO: Si a no es igual a b se rompe. Ver por qué\n",
    "a = 20\n",
    "b = 20\n",
    "l = a + b\n",
    "sparce_rate = .9 # Qué tan dispersa es la matriz de ratings\n",
    "\n",
    "# Inicializo la matriz de interacciones y pongo -1 en muchos lugares\n",
    "# El -1 representa las interacciones que no conocemos o no sucedieron. Ej: las peliculas que no vio el usuario.\n",
    "ratings = np.random.randint(0, 2, n_users*n_items).reshape(n_users,n_items)\n",
    "aux = np.random.rand(ratings.shape[0], ratings.shape[1])\n",
    "ratings[aux<sparce_rate] = -1"
   ]
  },
  {
   "cell_type": "markdown",
   "metadata": {},
   "source": [
    "### Inicializo algunos pesos"
   ]
  },
  {
   "cell_type": "code",
   "execution_count": null,
   "metadata": {},
   "outputs": [],
   "source": [
    "W = np.random.rand(l,l)\n",
    "w = np.random.rand(l)\n",
    "\n",
    "U = np.random.rand(n_users, a)\n",
    "V = np.random.rand(n_items, b)"
   ]
  },
  {
   "cell_type": "code",
   "execution_count": null,
   "metadata": {},
   "outputs": [],
   "source": [
    "p = calculate_linear_weighted_features(U,w[:a]) + calculate_weighted_interactions(U, W[:a,:a])\n",
    "p.shape"
   ]
  },
  {
   "cell_type": "code",
   "execution_count": null,
   "metadata": {},
   "outputs": [],
   "source": [
    "q = calculate_linear_weighted_features(V,w[a:]) + calculate_weighted_interactions(V,W[a:,a:])\n",
    "q.shape"
   ]
  },
  {
   "cell_type": "code",
   "execution_count": null,
   "metadata": {},
   "outputs": [],
   "source": [
    "z = np.random.rand(1)\n",
    "z_broad = broadcast_0darray(z, times_x=n_users, times_y=n_items).shape"
   ]
  },
  {
   "cell_type": "markdown",
   "metadata": {},
   "source": [
    "### Entrenamiento Regresión Cuadrática"
   ]
  },
  {
   "cell_type": "code",
   "execution_count": null,
   "metadata": {},
   "outputs": [],
   "source": [
    "device = torch.device('cuda' if torch.cuda.is_available() else 'cpu')\n",
    "print('Using device:', device)"
   ]
  },
  {
   "cell_type": "code",
   "execution_count": null,
   "metadata": {},
   "outputs": [],
   "source": [
    "p = torch.from_numpy(p).to(device)\n",
    "q = torch.from_numpy(q).to(device)\n",
    "z = torch.from_numpy(z).to(device)\n",
    "W = torch.from_numpy(W).to(device)\n",
    "w = torch.from_numpy(w).to(device)\n",
    "U = torch.from_numpy(U).to(device)\n",
    "V = torch.from_numpy(V).to(device)\n",
    "ratings = torch.from_numpy(ratings)\n",
    "indicator = init_indicator_matrix(ratings)\n",
    "ratings = ratings.to(device)\n",
    "indicator = indicator.to(device)"
   ]
  },
  {
   "cell_type": "code",
   "execution_count": null,
   "metadata": {},
   "outputs": [],
   "source": [
    "%time entrenar_regresion(ratings, U, V, W, p, q, z)"
   ]
  }
 ],
 "metadata": {
  "kernelspec": {
   "display_name": "RecomendadorNN",
   "language": "python",
   "name": "recomendadornn"
  },
  "language_info": {
   "codemirror_mode": {
    "name": "ipython",
    "version": 3
   },
   "file_extension": ".py",
   "mimetype": "text/x-python",
   "name": "python",
   "nbconvert_exporter": "python",
   "pygments_lexer": "ipython3",
   "version": "3.7.13"
  }
 },
 "nbformat": 4,
 "nbformat_minor": 2
}
