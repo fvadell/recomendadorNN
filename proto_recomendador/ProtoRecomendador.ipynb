{
 "cells": [
  {
   "cell_type": "code",
   "execution_count": null,
   "metadata": {},
   "outputs": [],
   "source": [
    "%load_ext autoreload\n",
    "%autoreload 2"
   ]
  },
  {
   "cell_type": "code",
   "execution_count": null,
   "metadata": {},
   "outputs": [],
   "source": [
    "import numpy as np\n",
    "import pandas as pd\n",
    "import torch\n",
    "from sklearn.preprocessing import PolynomialFeatures\n",
    "from modelo_cuadratico import modelo_cuadratico"
   ]
  },
  {
   "cell_type": "code",
   "execution_count": null,
   "metadata": {},
   "outputs": [],
   "source": [
    "run_test = False # Si está en True se va a hacer una prueba inicial con datos sintéticos\n",
    "load_model = True # Si está en True no se va a entrenar y va a cargar los pesos load_weights_file\n",
    "save_model = False # Si está en True se van a guardar los pesos luego de entrenar en save_weights_file\n",
    "load_weights_file = \"model.pt\" # Archivo con los pesos guardados.\n",
    "save_weights_file = \"model.pt\" # Archivo donde se guardan los pesos "
   ]
  },
  {
   "cell_type": "markdown",
   "metadata": {},
   "source": [
    "### Proto Recomendador\n",
    "Esta notebook está basada en el paper A Recommendation Model Based on Deep Neural Network del autor LIBO ZHANG"
   ]
  },
  {
   "cell_type": "markdown",
   "metadata": {},
   "source": [
    "#### Prueba con datos sintéticos"
   ]
  },
  {
   "cell_type": "code",
   "execution_count": null,
   "metadata": {},
   "outputs": [],
   "source": [
    "if not run_test: print(\"run_test = False -> No se va a correr el test\")"
   ]
  },
  {
   "cell_type": "code",
   "execution_count": null,
   "metadata": {},
   "outputs": [],
   "source": [
    "if run_test:\n",
    "    n_users = 50\n",
    "    n_items = 100\n",
    "    a = 10\n",
    "    b = 20\n",
    "    sparce_rate = .9 # Qué tan dispersa es la matriz de ratings de ejemplo\n",
    "\n",
    "    # Inicializo la matriz de interacciones y pongo -1 en muchos lugares\n",
    "    # El -1 representa las interacciones que no conocemos o no sucedieron. Ej: las peliculas que no vio el usuario.\n",
    "    ratings = np.random.randint(0, 2, n_users*n_items).reshape(n_users,n_items)\n",
    "    aux = np.random.rand(ratings.shape[0], ratings.shape[1])\n",
    "    ratings[aux<sparce_rate] = -1\n",
    "    ratings_df = pd.DataFrame(ratings)\n",
    "    ratings_df.columns = list(ratings_df.columns + 1)\n",
    "    ratings_df.index = list(ratings_df.index + 1)\n",
    "    ratings = torch.from_numpy(ratings)\n",
    "    \n",
    "    model = modelo_cuadratico(a, b, n_users, n_items, ratings_df)"
   ]
  },
  {
   "cell_type": "code",
   "execution_count": null,
   "metadata": {},
   "outputs": [],
   "source": [
    "%time if run_test: R = model.entrenar(ratings)"
   ]
  },
  {
   "cell_type": "markdown",
   "metadata": {},
   "source": [
    "#### Prueba con datos de MovieLens"
   ]
  },
  {
   "cell_type": "markdown",
   "metadata": {},
   "source": [
    "Uso el dataset de MovieLens 1M (https://grouplens.org/datasets/movielens/1m/).\n",
    "Para correr esta notebook hay que bajarlo, descomprimirlo y apuntar los siguientes paths a los archivos correspondientes"
   ]
  },
  {
   "cell_type": "code",
   "execution_count": null,
   "metadata": {},
   "outputs": [],
   "source": [
    "user_data = '../../MovieLens/data/users.dat'\n",
    "movie_data = '../../MovieLens/data/movies.dat'\n",
    "ratings_data = '../../MovieLens/data/ratings.dat'"
   ]
  },
  {
   "cell_type": "code",
   "execution_count": null,
   "metadata": {},
   "outputs": [],
   "source": [
    "users = pd.read_csv(user_data, sep = '::', header = None, names = ['UserId', 'Gender', 'AgeGroup', 'Occupation', 'Zip'], encoding = 'latin-1')\n",
    "movies = pd.read_csv(movie_data, sep = '::', header = None, names = ['MovieId', 'Title', 'Genre'], encoding = 'latin-1')\n",
    "ratings_data = pd.read_csv(ratings_data, sep = '::', header = None, names = ['UserId', 'MovieId', 'Rating', 'Timestamp'], encoding = 'latin-1')"
   ]
  },
  {
   "cell_type": "code",
   "execution_count": null,
   "metadata": {},
   "outputs": [],
   "source": [
    "ratings_data.head()"
   ]
  },
  {
   "cell_type": "code",
   "execution_count": null,
   "metadata": {},
   "outputs": [],
   "source": [
    "ratings_data['Match'] = (ratings_data['Rating']>=4).astype(int) # Considero un match si el ratings es 4 o más (esto es bastante burdo pero es para probar)"
   ]
  },
  {
   "cell_type": "code",
   "execution_count": null,
   "metadata": {},
   "outputs": [],
   "source": [
    "ratings_df = ratings_data.pivot(index='UserId',\n",
    "                                 columns='MovieId',\n",
    "                                 values='Match').fillna(-1)"
   ]
  },
  {
   "cell_type": "code",
   "execution_count": null,
   "metadata": {},
   "outputs": [],
   "source": [
    "ratings_df.head()"
   ]
  },
  {
   "cell_type": "code",
   "execution_count": null,
   "metadata": {},
   "outputs": [],
   "source": [
    "ratings_matrix = ratings_df.to_numpy()"
   ]
  },
  {
   "cell_type": "code",
   "execution_count": null,
   "metadata": {},
   "outputs": [],
   "source": [
    "n_users = ratings_data.UserId.nunique()\n",
    "n_items = ratings_data.MovieId.nunique()\n",
    "a = 16\n",
    "b = 20\n",
    "l = a + b\n",
    "ratings = ratings_matrix.copy()\n",
    "ratings = torch.from_numpy(ratings)"
   ]
  },
  {
   "cell_type": "code",
   "execution_count": null,
   "metadata": {},
   "outputs": [],
   "source": [
    "model = modelo_cuadratico(a, b, n_users, n_items, ratings_df)"
   ]
  },
  {
   "cell_type": "markdown",
   "metadata": {},
   "source": [
    "### Entrenamiento Regresión Cuadrática"
   ]
  },
  {
   "cell_type": "code",
   "execution_count": null,
   "metadata": {},
   "outputs": [],
   "source": [
    "if load_model: print(\"No se va a entrenar el modelo. Se va a cargar de {}\".format(load_weights_file))"
   ]
  },
  {
   "cell_type": "code",
   "execution_count": null,
   "metadata": {},
   "outputs": [],
   "source": [
    "if load_model:\n",
    "    model.load_weights(load_weights_file)\n",
    "else:\n",
    "    %time R = model.entrenar(ratings, lr = 0.1)\n",
    "    if save_weights:\n",
    "        model.save_weights(save_weights_file)"
   ]
  },
  {
   "cell_type": "markdown",
   "metadata": {},
   "source": [
    "### Datos ZPAR"
   ]
  },
  {
   "cell_type": "code",
   "execution_count": null,
   "metadata": {},
   "outputs": [],
   "source": [
    "import pickle5 as pickle"
   ]
  },
  {
   "cell_type": "code",
   "execution_count": null,
   "metadata": {},
   "outputs": [],
   "source": [
    "with open('data_ZPAR.pkl.pkl', \"rb\") as f:\n",
    "      segmentos_df = pickle.load(f)"
   ]
  },
  {
   "cell_type": "code",
   "execution_count": null,
   "metadata": {},
   "outputs": [],
   "source": [
    "segmentos = segmentos_df[['idusuario', 'pred_label_km']].set_index('idusuario').to_dict()"
   ]
  },
  {
   "cell_type": "code",
   "execution_count": null,
   "metadata": {},
   "outputs": [],
   "source": [
    "with open('leads_ZPAR_2022-05-10.pkl', \"rb\") as fh:\n",
    "  ratings_df = pickle.load(fh)"
   ]
  },
  {
   "cell_type": "code",
   "execution_count": null,
   "metadata": {},
   "outputs": [],
   "source": [
    "ratings_df.groupby('pred_label_km').idusuario.nunique(), ratings_df.groupby('pred_label_km').idaviso.nunique() "
   ]
  },
  {
   "cell_type": "code",
   "execution_count": null,
   "metadata": {},
   "outputs": [],
   "source": [
    "ratings_df[ratings_df['pred_label_km']==\"4\"].idusuario.nunique(), ratings_df[ratings_df['pred_label_km']==\"2\"].idaviso.nunique()"
   ]
  },
  {
   "cell_type": "code",
   "execution_count": null,
   "metadata": {},
   "outputs": [],
   "source": [
    "ratings_df.idusuario.nunique(), ratings_df.idaviso.nunique() "
   ]
  },
  {
   "cell_type": "code",
   "execution_count": null,
   "metadata": {},
   "outputs": [],
   "source": [
    "ratings_df.idusuario.value_counts().hist(bins=45)"
   ]
  },
  {
   "cell_type": "code",
   "execution_count": null,
   "metadata": {},
   "outputs": [],
   "source": [
    "ratings_df.idusuario.nunique()"
   ]
  },
  {
   "cell_type": "code",
   "execution_count": null,
   "metadata": {},
   "outputs": [],
   "source": [
    "cluster = ratings_df[ratings_df['pred_label_km']=='4']"
   ]
  },
  {
   "cell_type": "code",
   "execution_count": null,
   "metadata": {},
   "outputs": [],
   "source": [
    "cluster.idusuario.nunique()"
   ]
  },
  {
   "cell_type": "code",
   "execution_count": null,
   "metadata": {},
   "outputs": [],
   "source": [
    "cluster = cluster[['idusuario', 'idaviso', 'Match']].pivot(index='idusuario',\n",
    "                                 columns='idaviso',\n",
    "                                 values='Match').fillna(-1)"
   ]
  },
  {
   "cell_type": "code",
   "execution_count": null,
   "metadata": {},
   "outputs": [],
   "source": [
    "(cluster==-1).sum().sum()*100/(cluster.shape[0]*cluster.shape[1])"
   ]
  },
  {
   "cell_type": "code",
   "execution_count": null,
   "metadata": {},
   "outputs": [],
   "source": [
    "cluster['Train'] = np.random.rand(cluster.shape[0])<.95"
   ]
  },
  {
   "cell_type": "code",
   "execution_count": null,
   "metadata": {},
   "outputs": [],
   "source": [
    "test = cluster[cluster['Train']==False].copy()"
   ]
  },
  {
   "cell_type": "code",
   "execution_count": null,
   "metadata": {},
   "outputs": [],
   "source": [
    "test = test.drop('Train', axis=1)"
   ]
  },
  {
   "cell_type": "code",
   "execution_count": null,
   "metadata": {},
   "outputs": [],
   "source": [
    "cluster = cluster[cluster['Train']]"
   ]
  },
  {
   "cell_type": "code",
   "execution_count": null,
   "metadata": {},
   "outputs": [],
   "source": [
    "cluster = cluster.drop('Train', axis=1)"
   ]
  },
  {
   "cell_type": "code",
   "execution_count": null,
   "metadata": {},
   "outputs": [],
   "source": [
    "ratings_matrix = cluster.to_numpy()"
   ]
  },
  {
   "cell_type": "code",
   "execution_count": null,
   "metadata": {},
   "outputs": [],
   "source": [
    "ratings_matrix.shape[0]"
   ]
  },
  {
   "cell_type": "code",
   "execution_count": null,
   "metadata": {},
   "outputs": [],
   "source": [
    "ratings_matrix.shape"
   ]
  },
  {
   "cell_type": "code",
   "execution_count": null,
   "metadata": {},
   "outputs": [],
   "source": [
    "n_users = ratings_matrix.shape[0]\n",
    "n_items = ratings_matrix.shape[1]\n",
    "a = 15\n",
    "b = 15\n",
    "l = a + b\n",
    "ratings = ratings_matrix.copy()\n",
    "ratings = torch.from_numpy(ratings)"
   ]
  },
  {
   "cell_type": "code",
   "execution_count": null,
   "metadata": {},
   "outputs": [],
   "source": [
    "model = modelo_cuadratico(a, b, n_users, n_items, cluster)"
   ]
  },
  {
   "cell_type": "code",
   "execution_count": null,
   "metadata": {},
   "outputs": [],
   "source": [
    "ratings.shape"
   ]
  },
  {
   "cell_type": "code",
   "execution_count": null,
   "metadata": {},
   "outputs": [],
   "source": [
    "%time R = model.entrenar(ratings, lr = 0.2, track_every = 10, epochs = 9000)"
   ]
  },
  {
   "cell_type": "code",
   "execution_count": null,
   "metadata": {},
   "outputs": [],
   "source": [
    "cluster"
   ]
  },
  {
   "cell_type": "code",
   "execution_count": null,
   "metadata": {},
   "outputs": [],
   "source": [
    "s = torch.nn.Sigmoid()\n",
    "pd.DataFrame(s(R).cpu().numpy())"
   ]
  },
  {
   "cell_type": "code",
   "execution_count": null,
   "metadata": {},
   "outputs": [],
   "source": [
    "ratings_matrix = test.to_numpy()\n",
    "ratings = ratings_matrix.copy()\n",
    "ratings = torch.from_numpy(ratings)"
   ]
  },
  {
   "cell_type": "code",
   "execution_count": null,
   "metadata": {},
   "outputs": [],
   "source": [
    "ratings.shape"
   ]
  },
  {
   "cell_type": "code",
   "execution_count": null,
   "metadata": {},
   "outputs": [],
   "source": [
    "#n_users = ratings_matrix.shape[0]\n",
    "#n_items = ratings_matrix.shape[1]"
   ]
  },
  {
   "cell_type": "code",
   "execution_count": null,
   "metadata": {},
   "outputs": [],
   "source": [
    "p_broad = torch.broadcast_to(model.p, (-1, n_items))\n",
    "q_broad = torch.broadcast_to(model.q, (-1, n_users)).transpose(0,1)\n",
    "z_broad = torch.broadcast_to(model.z, (n_users, n_items))"
   ]
  },
  {
   "cell_type": "code",
   "execution_count": null,
   "metadata": {},
   "outputs": [],
   "source": [
    "U = model.U.cpu().numpy()"
   ]
  },
  {
   "cell_type": "code",
   "execution_count": null,
   "metadata": {},
   "outputs": [],
   "source": [
    "from annoy import AnnoyIndex\n",
    "#### Annoy\n",
    "\n",
    "f = 15  # len de los vectores\n",
    "\n",
    "c = AnnoyIndex(f, 'euclidean')\n",
    "n_embeddings = U.shape[0]\n",
    "\n",
    "for i, emb in enumerate(U):\n",
    "    c.add_item(i, emb)\n",
    "    print('Progress: {}/{}'.format(i,n_embeddings), end = '\\r')\n",
    "print('Progress: {}/{} ... ฅ^•ﻌ•^ฅ OK!'.format(n_embeddings, n_embeddings), end = '\\r')\n",
    "\n",
    "c.build(10) # Número de árboles de ANN"
   ]
  },
  {
   "cell_type": "code",
   "execution_count": null,
   "metadata": {},
   "outputs": [],
   "source": [
    "avisos = pd.read_csv('avisos.csv', index_col=0)"
   ]
  },
  {
   "cell_type": "code",
   "execution_count": null,
   "metadata": {},
   "outputs": [],
   "source": [
    "def usuarios_similares(idusuario, cantidad=5):\n",
    "    pos = model.get_user_position(idusuario)\n",
    "    similar_users = c.get_nns_by_item(pos, cantidad+1)\n",
    "    return similar_users"
   ]
  },
  {
   "cell_type": "code",
   "execution_count": null,
   "metadata": {},
   "outputs": [],
   "source": [
    "user = cluster.sample(1).index.item()\n",
    "similar = [model.get_userid(x) for x in usuarios_similares(user, 50)]\n",
    "similar.remove(user)\n",
    "ratings_df[(ratings_df['idusuario'].isin([user]))&(ratings_df['Match']==1)].merge(avisos, on = 'idaviso', how = 'left').ciudad.value_counts()"
   ]
  },
  {
   "cell_type": "code",
   "execution_count": null,
   "metadata": {},
   "outputs": [],
   "source": [
    "ratings_df[(ratings_df['idusuario'].isin(similar))&(ratings_df['Match']==1)].merge(avisos, on = 'idaviso', how = 'left').ciudad.value_counts()"
   ]
  },
  {
   "cell_type": "code",
   "execution_count": null,
   "metadata": {},
   "outputs": [],
   "source": []
  },
  {
   "cell_type": "code",
   "execution_count": null,
   "metadata": {},
   "outputs": [],
   "source": []
  },
  {
   "cell_type": "code",
   "execution_count": null,
   "metadata": {},
   "outputs": [],
   "source": [
    "user_features = ['barrio_favorito','barrio_fav_count', 'operacion_favorita', 'operacion_fav_count', 'hits_count',\n",
    "                 'leads_count', 'Alquiler_rel', 'Alquiler temporal_rel','Venta_rel', 'Alquiler_precio_mediana',\n",
    "                 'Alquiler temporal_precio_mediana', 'Venta_precio_mediana','Alquiler_precio_media',\n",
    "                 'Alquiler temporal_precio_media','Venta_precio_media','precision_barriofav','precision_operacionfav',\n",
    "                 'precision_precio', 'precision_busqueda', 'ctr', 'tsne_x', 'tsne_y']\n",
    "len(user_features)"
   ]
  },
  {
   "cell_type": "code",
   "execution_count": null,
   "metadata": {},
   "outputs": [],
   "source": [
    "segmentos_df.columns"
   ]
  }
 ],
 "metadata": {
  "kernelspec": {
   "display_name": "RecomendadorNN",
   "language": "python",
   "name": "recomendadornn"
  },
  "language_info": {
   "codemirror_mode": {
    "name": "ipython",
    "version": 3
   },
   "file_extension": ".py",
   "mimetype": "text/x-python",
   "name": "python",
   "nbconvert_exporter": "python",
   "pygments_lexer": "ipython3",
   "version": "3.7.13"
  }
 },
 "nbformat": 4,
 "nbformat_minor": 2
}
