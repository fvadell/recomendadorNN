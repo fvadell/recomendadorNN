{
 "cells": [
  {
   "cell_type": "code",
   "execution_count": null,
   "id": "7865fd4b",
   "metadata": {},
   "outputs": [],
   "source": [
    "import pandas as pd"
   ]
  },
  {
   "cell_type": "code",
   "execution_count": null,
   "id": "7f5a587f",
   "metadata": {},
   "outputs": [],
   "source": [
    "avisos = pd.read_csv('avisos.csv', index_col=0)"
   ]
  },
  {
   "cell_type": "code",
   "execution_count": null,
   "id": "21120dae",
   "metadata": {},
   "outputs": [],
   "source": [
    "avisos=avisos.drop(['provincia', 'iscurrent'], axis = 1)"
   ]
  },
  {
   "cell_type": "code",
   "execution_count": null,
   "id": "2cd72fd7",
   "metadata": {},
   "outputs": [],
   "source": [
    "avisos_venta = avisos[avisos['tipodeoperacion']=='Venta']\n",
    "avisos = avisos[avisos['tipodeoperacion']!='Venta']"
   ]
  },
  {
   "cell_type": "code",
   "execution_count": null,
   "id": "11ccd076",
   "metadata": {},
   "outputs": [],
   "source": [
    "avisos['precio_norm'] = (avisos.precio - avisos.precio.mean())/avisos.precio.std()\n",
    "avisos_venta['precio_norm'] = (avisos_venta.precio - avisos_venta.precio.mean())/avisos_venta.precio.std()"
   ]
  },
  {
   "cell_type": "code",
   "execution_count": null,
   "id": "cee21448",
   "metadata": {},
   "outputs": [],
   "source": [
    "avisos = pd.concat([avisos, avisos_venta])"
   ]
  },
  {
   "cell_type": "code",
   "execution_count": null,
   "id": "a3000816",
   "metadata": {},
   "outputs": [],
   "source": [
    "from sklearn.preprocessing import LabelEncoder\n",
    "categorical_features = ['ciudad', 'tipodeoperacion', 'tipodepropiedad']\n",
    "# Le aplico label encodding a cada variable categorica y me guardo los diccionarios en la lista mappings.\n",
    "mappings = []\n",
    "for col in categorical_features:\n",
    "    le = LabelEncoder()\n",
    "    avisos[col + '_encoded'] = le.fit_transform(avisos[col])\n",
    "    #avisos[col + '_encoded'] = avisos[col + '_encoded'].astype('category')\n",
    "    mappings.append(dict(zip(le.classes_, range(len(le.classes_)))))"
   ]
  },
  {
   "cell_type": "code",
   "execution_count": null,
   "id": "be26fdcb",
   "metadata": {},
   "outputs": [],
   "source": [
    "avisos = avisos.reset_index(drop=True)"
   ]
  },
  {
   "cell_type": "code",
   "execution_count": null,
   "id": "733be584",
   "metadata": {},
   "outputs": [],
   "source": [
    "avisos['habitaciones'] = avisos.habitaciones.fillna(avisos.habitaciones.mean())\n",
    "avisos['metrostotales'] = avisos.metrostotales.fillna(avisos.metrostotales.mean())"
   ]
  },
  {
   "cell_type": "code",
   "execution_count": null,
   "id": "a9b1fe25",
   "metadata": {},
   "outputs": [],
   "source": [
    "avisos['metrostotales_norm'] = (avisos['metrostotales']-avisos['metrostotales'].mean())/avisos['metrostotales'].std()\n",
    "avisos['habitaciones_norm'] = (avisos['habitaciones']-avisos['habitaciones'].mean())/avisos['habitaciones'].std()\n"
   ]
  },
  {
   "cell_type": "code",
   "execution_count": null,
   "id": "ef636d75",
   "metadata": {},
   "outputs": [],
   "source": [
    "embeddings_ciudad_2d = pd.read_csv('embeddings_ciudad_2d.csv', index_col = 0)"
   ]
  },
  {
   "cell_type": "code",
   "execution_count": null,
   "id": "bdcf7114",
   "metadata": {},
   "outputs": [],
   "source": [
    "avisos = avisos.merge(embeddings_ciudad_2d, on = 'ciudad', how = 'left')\n",
    "avisos = avisos.rename(columns = {'t1':'ciudad_x', 't2':'ciudad_y' })"
   ]
  },
  {
   "cell_type": "code",
   "execution_count": null,
   "id": "5870fe58",
   "metadata": {},
   "outputs": [],
   "source": [
    "avisos = avisos.drop_duplicates('idaviso')"
   ]
  },
  {
   "cell_type": "code",
   "execution_count": null,
   "id": "099c4362",
   "metadata": {},
   "outputs": [],
   "source": [
    "# Normalizo los embeddings (qué puede salir mal?)\n",
    "avisos[['ciudad_x','ciudad_y']] = avisos[['ciudad_x','ciudad_y']] = (avisos[['ciudad_x','ciudad_y']]-avisos[['ciudad_x','ciudad_y']].mean())/avisos[['ciudad_x','ciudad_y']].std()"
   ]
  },
  {
   "cell_type": "code",
   "execution_count": null,
   "id": "140afbdd",
   "metadata": {},
   "outputs": [],
   "source": [
    "features = ['ciudad_x', 'ciudad_y', 'tipodeoperacion_encoded', 'tipodepropiedad_encoded', 'habitaciones_norm', 'metrostotales_norm', 'precio_norm']\n",
    "len(features)"
   ]
  },
  {
   "cell_type": "code",
   "execution_count": null,
   "id": "3a2c3f3c",
   "metadata": {},
   "outputs": [],
   "source": [
    "# Pesos de distintas variables\n",
    "\n",
    "avisos['tipodeoperacion_encoded'] = avisos['tipodeoperacion_encoded']*100\n",
    "\n",
    "avisos['precio_norm'] = avisos['precio_norm']\n",
    "\n",
    "avisos[['ciudad_x','ciudad_y']] = avisos[['ciudad_x','ciudad_y']]*1"
   ]
  },
  {
   "cell_type": "code",
   "execution_count": null,
   "id": "70518ea9",
   "metadata": {},
   "outputs": [],
   "source": [
    "avisos = avisos.reset_index(drop=True)\n",
    "X = avisos.filter(features).to_numpy()"
   ]
  },
  {
   "cell_type": "code",
   "execution_count": null,
   "id": "a7622bfa",
   "metadata": {},
   "outputs": [],
   "source": [
    "from annoy import AnnoyIndex\n",
    "#### Annoy\n",
    "\n",
    "f = X.shape[1]  # len de los vectores\n",
    "\n",
    "c = AnnoyIndex(f, 'manhattan')\n",
    "n_embeddings = X.shape[0]\n",
    "\n",
    "for i, emb in enumerate(X):\n",
    "    c.add_item(i, emb)\n",
    "    print('Progress: {}/{}'.format(i,n_embeddings), end = '\\r')\n",
    "print('Progress: {}/{} ... ฅ^•ﻌ•^ฅ OK!'.format(n_embeddings, n_embeddings), end = '\\r')\n",
    "\n",
    "c.build(100) # Número de árboles de ANN"
   ]
  },
  {
   "cell_type": "code",
   "execution_count": null,
   "id": "7416041f",
   "metadata": {},
   "outputs": [],
   "source": [
    "def pos_to_itemid(pos):\n",
    "    return avisos[avisos.index==pos].idaviso.item()\n",
    "\n",
    "def itemid_to_pos(itemid):\n",
    "    return avisos[avisos['idaviso']==itemid].index.item()\n",
    "\n",
    "def items_similares(itemid, cantidad = 5, remove_original = True):\n",
    "    pos = itemid_to_pos(itemid)\n",
    "    similar_items = c.get_nns_by_item(pos, cantidad+1, include_distances=True)\n",
    "    dist = similar_items[1]\n",
    "    similar_items = [pos_to_itemid(p) for p in similar_items[0]]\n",
    "    if remove_original:\n",
    "        similar_items.remove(itemid)\n",
    "    return similar_items, dist\n",
    "\n",
    "def items_similares_from_features(features, cantidad):\n",
    "    similar_items = c.get_nns_by_vector(features, cantidad+1, include_distances=True)\n",
    "    similar_items = [pos_to_itemid(p) for p in similar_items]\n",
    "    return similar_items"
   ]
  },
  {
   "cell_type": "code",
   "execution_count": null,
   "id": "bf7484d5",
   "metadata": {},
   "outputs": [],
   "source": [
    "artificial = [-0.086216,-0.453138, 0, 0, 0.182190,-0.116949, -1.172157]"
   ]
  },
  {
   "cell_type": "code",
   "execution_count": null,
   "id": "da6abb74",
   "metadata": {},
   "outputs": [],
   "source": [
    "aviso = avisos.sample(1).idaviso.item()\n",
    "avisos[avisos['idaviso']==aviso]"
   ]
  },
  {
   "cell_type": "code",
   "execution_count": null,
   "id": "78f950c7",
   "metadata": {},
   "outputs": [],
   "source": [
    "import numpy as np"
   ]
  },
  {
   "cell_type": "code",
   "execution_count": null,
   "id": "f9ac4296",
   "metadata": {},
   "outputs": [],
   "source": [
    "%time similar, dist = items_similares(itemid=aviso, cantidad = 20, remove_original = False)\n",
    "#similar = items_similares_from_features(artificial, 20)\n",
    "res = avisos[avisos['idaviso'].isin(similar)].sort_values(['ciudad', 'habitaciones'])\n",
    "res[np.array(dist)>-1]"
   ]
  },
  {
   "cell_type": "code",
   "execution_count": null,
   "id": "d51da005",
   "metadata": {},
   "outputs": [],
   "source": [
    "dist"
   ]
  },
  {
   "cell_type": "code",
   "execution_count": null,
   "id": "88ee7225",
   "metadata": {},
   "outputs": [],
   "source": [
    "res[['ciudad', 'tipodepropiedad']].value_counts()"
   ]
  },
  {
   "cell_type": "code",
   "execution_count": null,
   "id": "9670f581",
   "metadata": {},
   "outputs": [],
   "source": [
    "res.describe()"
   ]
  },
  {
   "cell_type": "code",
   "execution_count": null,
   "id": "054c161b",
   "metadata": {},
   "outputs": [],
   "source": []
  },
  {
   "cell_type": "code",
   "execution_count": null,
   "id": "731b27de",
   "metadata": {},
   "outputs": [],
   "source": [
    "%time avisos.head(30).idaviso.apply(items_similares, remove_original=False)"
   ]
  }
 ],
 "metadata": {
  "kernelspec": {
   "display_name": "RecomendadorNN",
   "language": "python",
   "name": "recomendadornn"
  },
  "language_info": {
   "codemirror_mode": {
    "name": "ipython",
    "version": 3
   },
   "file_extension": ".py",
   "mimetype": "text/x-python",
   "name": "python",
   "nbconvert_exporter": "python",
   "pygments_lexer": "ipython3",
   "version": "3.7.13"
  }
 },
 "nbformat": 4,
 "nbformat_minor": 5
}
