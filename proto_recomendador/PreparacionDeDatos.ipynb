{
 "cells": [
  {
   "cell_type": "code",
   "execution_count": null,
   "id": "5adb0b24",
   "metadata": {},
   "outputs": [],
   "source": [
    "import pandas as pd\n",
    "import mysql.connector\n",
    "from cassandra.cluster import Cluster"
   ]
  },
  {
   "cell_type": "code",
   "execution_count": null,
   "id": "a2e87b1c",
   "metadata": {},
   "outputs": [],
   "source": [
    "fecha = '2022-05-10'\n",
    "portal = 'ZPAR'\n",
    "max_retries = 10"
   ]
  },
  {
   "cell_type": "code",
   "execution_count": null,
   "id": "b53b516c",
   "metadata": {},
   "outputs": [],
   "source": [
    "db_labs = {\n",
    "    'host':'34.75.227.218',\n",
    "    'user':'bumeranlabs',\n",
    "    'pwd':'labs123',\n",
    "    'db':'bumeran_labs'\n",
    "}\n",
    "cass_db = '172.18.144.51'"
   ]
  },
  {
   "cell_type": "code",
   "execution_count": null,
   "id": "dbbaade7",
   "metadata": {},
   "outputs": [],
   "source": [
    "def __idstuple(ids):\n",
    "    s = \"(\"\n",
    "    for k in ids:\n",
    "        s = s + str(k) + ','\n",
    "    s = s[:-1]\n",
    "    s = s + \")\"\n",
    "    return s\n",
    "\n",
    "def divide_chunks(l:list, n:int):\n",
    "    \"\"\" Divide una lista en chunks de tamaño n\n",
    "    \"\"\"\n",
    "    for i in range(0, len(l), n): \n",
    "        yield l[i:i + n]\n",
    "        \n",
    "def portal_to_pais(portal: str):\n",
    "    paises = dict({\n",
    "        'ZPAR': 'AR',\n",
    "        'IWBR': 'BR',\n",
    "        'WIBR': 'BR',\n",
    "        '24MX': 'MX',\n",
    "        'PLEC': 'EC',\n",
    "        'UBPE': 'UB',\n",
    "        'LLVE': 'VE',\n",
    "        'DVPE': 'PE',\n",
    "        'CAPA': 'PA'})\n",
    "    res = None\n",
    "    try:\n",
    "        res = paises[portal]\n",
    "    except KeyError:\n",
    "        #logger.error(\"{} no es un portal valido\".format(portal))\n",
    "       # raise Exception(\"{} no es un portal valido\".format(portal))\n",
    "        pass\n",
    "    return res\n",
    "\n",
    "def get_count_users_with_leads(fecha, portal):\n",
    "        mydb = mysql.connector.connect( \\\n",
    "                           host=db_labs['host'], \\\n",
    "                           user=db_labs['user'], \\\n",
    "                           password=db_labs['pwd'], \\\n",
    "                           database=db_labs['db'] )\n",
    "        \n",
    "        pais = portal_to_pais(portal)\n",
    "        \n",
    "        query = \"SELECT COUNT(DISTINCT idusuario) FROM bumeran_labs.contactosre WHERE pais = '{}' AND fecha > '{}'\".format(pais, fecha)\n",
    "        \n",
    "        mycursor = mydb.cursor(buffered=True)\n",
    "        #logger.info(\"[get_count_users_with_leads]: Ejecutando query {}\".format(query))\n",
    "        mycursor.execute(query)\n",
    "        myresult = mycursor.fetchall()[0][0]\n",
    "        #leads = pd.DataFrame(myresult, columns = ['idusuario', 'idaviso'])\n",
    "    \n",
    "        mycursor.close()\n",
    "        #logger.info(\"Hay {} ids de usuario con leads desde {}.\".format(myresult, fecha))\n",
    "\n",
    "        return myresult\n",
    "    \n",
    "def get_users_with_leads(fecha, portal, limit=None, offset = None):\n",
    "    mydb = mysql.connector.connect( \\\n",
    "                               host=db_labs['host'], \\\n",
    "                               user=db_labs['user'], \\\n",
    "                               password=db_labs['pwd'], \\\n",
    "                               database=db_labs['db'] )\n",
    "\n",
    "    pais = portal_to_pais(portal)\n",
    "\n",
    "    query = \"SELECT idusuario, idaviso FROM bumeran_labs.contactosre WHERE pais = '{}' AND fecha > '{}'\".format(pais, fecha)\n",
    "\n",
    "    if (limit is not None):\n",
    "        query = query + \" LIMIT \" + str(limit)\n",
    "    if (offset is not None):\n",
    "        query = query + \" OFFSET \" + str(offset)\n",
    "\n",
    "    mycursor = mydb.cursor(buffered=True)\n",
    "    #logger.info(\"[get_users_with_leads]: Ejecutando query {}\".format(query))\n",
    "    mycursor.execute(query)\n",
    "    myresult = mycursor.fetchall()\n",
    "    leads = pd.DataFrame(myresult, columns = ['idusuario', 'idaviso'])\n",
    "\n",
    "    mycursor.close()\n",
    "    #logger.info(\"Se trajeron {} ids de usuario con leads.\".format(str(leads.idusuario.nunique())))\n",
    "\n",
    "    return leads\n",
    "\n",
    "def get_leads(fecha_desde, portal, users, limit=None, offset = None):\n",
    "    mydb = mysql.connector.connect( \\\n",
    "                               host=db_labs['host'], \\\n",
    "                               user=db_labs['user'], \\\n",
    "                               password=db_labs['pwd'], \\\n",
    "                               database=db_labs['db'] )\n",
    "\n",
    "    pais = portal_to_pais(portal)\n",
    "\n",
    "    query = \"SELECT idusuario, idaviso FROM bumeran_labs.contactosre WHERE pais = '{}' AND fecha > '{}' AND idusuario IN {} \".format(pais, fecha_desde, __idstuple(users))\n",
    "\n",
    "    if (limit is not None):\n",
    "        query = query + \" LIMIT \" + str(limit)\n",
    "    if (offset is not None):\n",
    "        query = query + \" OFFSET \" + str(offset)\n",
    "\n",
    "    mycursor = mydb.cursor(buffered=True)\n",
    "    #logger.info(\"[get_users_with_leads]: Ejecutando query {}\".format(query))\n",
    "    mycursor.execute(query)\n",
    "    myresult = mycursor.fetchall()\n",
    "    leads = pd.DataFrame(myresult, columns = ['idusuario', 'idaviso'])\n",
    "\n",
    "    mycursor.close()\n",
    "    #logger.info(\"Se trajeron {} ids de usuario con leads.\".format(str(leads.idusuario.nunique())))\n",
    "\n",
    "    return leads\n",
    "    \n",
    "def get_hits(ids_sample, portal, date_from):\n",
    "    ids_list = list(divide_chunks(ids_sample, 2000))\n",
    "\n",
    "    cluster = Cluster([cass_db], connect_timeout=3000)\n",
    "    session = cluster.connect(\"user_history\")    \n",
    "    session.default_fetch_size = None\n",
    "    hits_partial = []\n",
    "    for i, chunk in enumerate(ids_list):\n",
    "        s = __idstuple(chunk)\n",
    "        query = \"SELECT * FROM user_hitaviso WHERE site_id='{}' AND user_id IN {} AND date > '{}';\".format(portal, s, date_from)\n",
    "        for t in range(max_retries):\n",
    "            try:\n",
    "                rows = session.execute(query)\n",
    "                hits_partial.append(pd.DataFrame(rows))\n",
    "                break\n",
    "            except Exception as e:\n",
    "                #logger.error(str(e))\n",
    "                #logger.info(\"[get_hits]: retrying connection {}\".format(str(t)))\n",
    "                print(\"[get_hits]: retrying connection {}\".format(str(t)))\n",
    "                if (t>=max_retries-1): \n",
    "                    #logger.critical(\"Se agotaron los retries.\")\n",
    "                    print(\"Se agotaron los retries.\")\n",
    "                    cluster.shutdown()\n",
    "                    raise CassandraConnectionException\n",
    "\n",
    "    cluster.shutdown()\n",
    "    cass_hits = pd.concat(hits_partial)\n",
    "    if (len(cass_hits)==0):\n",
    "        print(\"[get_hits]: No hay hits para el portal {}\".format(portal))\n",
    "    cass_hits.columns = ['portal', 'idusuario', 'date', 'idaviso']\n",
    "    cass_hits = cass_hits.drop(['portal', 'date'], axis = 1)\n",
    "    #### ACA\n",
    "    #cass_hits = pd.merge(self.get_recavisos(portal, cass_hits.idaviso.unique()), cass_hits, on = 'idaviso', how = 'inner')\n",
    "\n",
    "    return cass_hits\n",
    "\n",
    "def get_recavisos(portal, ids):\n",
    "    #if ((portal!='ZPAR') and (portal!='IWBR') and (portal!='WIBR')): \n",
    "    #    db = self.bumex_dbs['RELA']\n",
    "    #else:\n",
    "    #    db = self.bumex_dbs[portal]\n",
    "\n",
    "    db = db_labs\n",
    "\n",
    "    mydb = mysql.connector.connect( \\\n",
    "                               host=db['host'], \\\n",
    "                               user=db['user'], \\\n",
    "                               password=db['pwd'], \\\n",
    "                               database=db['db'] )\n",
    "\n",
    "    s = __idstuple(ids)\n",
    "\n",
    "    id_pais = portal_to_idpais(portal)\n",
    "    query = 'SELECT idaviso, ciudad, provincia, precio, tipodeoperacion, tipodepropiedad, habitaciones, metrostotales, iscurrent FROM recavisos WHERE idpais = {} AND precio > 100 AND idaviso IN {};'.format(id_pais, s)\n",
    "\n",
    "    mycursor = mydb.cursor(buffered=True)\n",
    "    #logger.debug(\"[get_recavisos]: Ejecutando query {}\".format(query))\n",
    "    mycursor.execute(query)\n",
    "    myresult = mycursor.fetchall()\n",
    "    item_feats = pd.DataFrame(myresult, columns = ['idaviso','ciudad','provincia', 'precio', 'tipodeoperacion', 'tipodepropiedad', 'habitaciones', 'metrostotales', 'iscurrent'])\n",
    "\n",
    "    mycursor.close()\n",
    "\n",
    "    return item_feats\n",
    "\n",
    "def portal_to_idpais(portal: str):\n",
    "    paises = dict({\n",
    "        'ZPAR': '1',\n",
    "        'IWBR': '2',\n",
    "        'WIBR': '2',\n",
    "        '24MX': '18',\n",
    "        'PLEC': '9',\n",
    "        'LLVE': '13',\n",
    "        'UBPE': '111',\n",
    "        'CAPA': '20',\n",
    "        'DVPE': '11'})\n",
    "    res = paises[portal]\n",
    "    return res\n"
   ]
  },
  {
   "cell_type": "code",
   "execution_count": null,
   "id": "84c6e39f",
   "metadata": {},
   "outputs": [],
   "source": [
    "segmentos_df = pd.read_pickle('data_ZPAR.pkl')"
   ]
  },
  {
   "cell_type": "code",
   "execution_count": null,
   "id": "a3b79a8a",
   "metadata": {},
   "outputs": [],
   "source": [
    "fecha"
   ]
  },
  {
   "cell_type": "code",
   "execution_count": null,
   "id": "f0ab5de4",
   "metadata": {},
   "outputs": [],
   "source": [
    "%time leads = get_leads(fecha_desde = fecha, portal = 'ZPAR', users = list(segmentos_df.idusuario))"
   ]
  },
  {
   "cell_type": "code",
   "execution_count": null,
   "id": "6ee729b2",
   "metadata": {},
   "outputs": [],
   "source": [
    "leads['lead']=True"
   ]
  },
  {
   "cell_type": "code",
   "execution_count": null,
   "id": "2fc6b650",
   "metadata": {},
   "outputs": [],
   "source": [
    "# Busco hits para los usuarios que tienen pocos leads asi complementamos\n",
    "v = leads.idusuario.value_counts()\n",
    "users_con_pocos_leads = leads[leads.idusuario.isin(v.index[v.lt(10)])]"
   ]
  },
  {
   "cell_type": "code",
   "execution_count": null,
   "id": "27717417",
   "metadata": {},
   "outputs": [],
   "source": [
    "%time hits = get_hits(list(users_con_pocos_leads.idusuario), portal = 'ZPAR', date_from = fecha)"
   ]
  },
  {
   "cell_type": "code",
   "execution_count": null,
   "id": "536513d0",
   "metadata": {},
   "outputs": [],
   "source": [
    "hits['lead']=False"
   ]
  },
  {
   "cell_type": "code",
   "execution_count": null,
   "id": "bf26a6de",
   "metadata": {},
   "outputs": [],
   "source": [
    "leads = pd.concat([leads,hits]).sort_values('lead', ascending=False).drop_duplicates(['idusuario', 'idaviso']).groupby('idusuario').head(100).drop('lead', axis=1)"
   ]
  },
  {
   "cell_type": "code",
   "execution_count": null,
   "id": "7d539975",
   "metadata": {},
   "outputs": [],
   "source": [
    "leads.idusuario.value_counts()"
   ]
  },
  {
   "cell_type": "code",
   "execution_count": null,
   "id": "72e2c298",
   "metadata": {},
   "outputs": [],
   "source": [
    "v = leads.idaviso.value_counts()\n",
    "leads = leads[leads.idaviso.isin(v.index[v.gt(19)])]"
   ]
  },
  {
   "cell_type": "code",
   "execution_count": null,
   "id": "2f7fc43a",
   "metadata": {},
   "outputs": [],
   "source": [
    "#v = leads.idusuario.value_counts()\n",
    "#leads = leads[leads.idusuario.isin(v.index[v.gt(9)])]"
   ]
  },
  {
   "cell_type": "code",
   "execution_count": null,
   "id": "85040319",
   "metadata": {},
   "outputs": [],
   "source": [
    "# Busco hits para los usuarios que tienen pocos leads asi complementamos\n",
    "#v = leads.idusuario.value_counts()\n",
    "#leads = leads[leads.idusuario.isin(v.index[v.gt(9)])]"
   ]
  },
  {
   "cell_type": "code",
   "execution_count": null,
   "id": "b06144b7",
   "metadata": {},
   "outputs": [],
   "source": [
    "#leads = get_users_with_leads(fecha, portal)"
   ]
  },
  {
   "cell_type": "code",
   "execution_count": null,
   "id": "43d160c2",
   "metadata": {},
   "outputs": [],
   "source": [
    "#v = leads.idusuario.value_counts()\n",
    "#leads = leads[leads.idusuario.isin(v.index[(v.gt(9))&(v.lt(100))])]"
   ]
  },
  {
   "cell_type": "code",
   "execution_count": null,
   "id": "d99847c8",
   "metadata": {},
   "outputs": [],
   "source": [
    "leads_falsos = leads.copy()"
   ]
  },
  {
   "cell_type": "code",
   "execution_count": null,
   "id": "17e9aa5a",
   "metadata": {},
   "outputs": [],
   "source": [
    "leads_falsos['idaviso'] = leads_falsos.idaviso.sample(frac=1).values"
   ]
  },
  {
   "cell_type": "code",
   "execution_count": null,
   "id": "a877ecb2",
   "metadata": {},
   "outputs": [],
   "source": [
    "leads['Match']=1\n",
    "leads_falsos['Match']=0"
   ]
  },
  {
   "cell_type": "code",
   "execution_count": null,
   "id": "069eccf6",
   "metadata": {},
   "outputs": [],
   "source": [
    "leads_falsos.shape, leads.shape"
   ]
  },
  {
   "cell_type": "code",
   "execution_count": null,
   "id": "c6eedbc0",
   "metadata": {},
   "outputs": [],
   "source": [
    "leads = pd.concat([leads, leads_falsos]).reset_index(drop=True)"
   ]
  },
  {
   "cell_type": "code",
   "execution_count": null,
   "id": "bc1438d8",
   "metadata": {},
   "outputs": [],
   "source": [
    "leads = leads.sort_values('Match', ascending = False)"
   ]
  },
  {
   "cell_type": "code",
   "execution_count": null,
   "id": "a513ff4b",
   "metadata": {},
   "outputs": [],
   "source": [
    "leads = leads.drop_duplicates(['idusuario', 'idaviso'])"
   ]
  },
  {
   "cell_type": "code",
   "execution_count": null,
   "id": "3e922010",
   "metadata": {},
   "outputs": [],
   "source": [
    "# Para llevarlo a la forma de matriz de interacción\n",
    "#leads_df = leads.pivot(index='idusuario',\n",
    "#                                 columns='idaviso',\n",
    "#                                 values='Match').fillna(-1)"
   ]
  },
  {
   "cell_type": "code",
   "execution_count": null,
   "id": "a81d5fc8",
   "metadata": {},
   "outputs": [],
   "source": [
    "len(segmentos_df.idusuario), len(set(leads.idusuario))"
   ]
  },
  {
   "cell_type": "code",
   "execution_count": null,
   "id": "dfe4b50a",
   "metadata": {},
   "outputs": [],
   "source": [
    "leads = leads.merge(segmentos_df[['idusuario', 'pred_label_km']], on='idusuario', how='left')"
   ]
  },
  {
   "cell_type": "code",
   "execution_count": null,
   "id": "6b371cc8",
   "metadata": {},
   "outputs": [],
   "source": [
    "leads.to_pickle('leads_{}_{}.pkl'.format(portal, fecha))"
   ]
  },
  {
   "cell_type": "code",
   "execution_count": null,
   "id": "c829de41",
   "metadata": {},
   "outputs": [],
   "source": [
    "leads.idaviso.unique()"
   ]
  },
  {
   "cell_type": "code",
   "execution_count": null,
   "id": "007b28fc",
   "metadata": {},
   "outputs": [],
   "source": [
    "%time avisos = get_recavisos(portal='ZPAR', ids = leads.idaviso.unique())"
   ]
  },
  {
   "cell_type": "code",
   "execution_count": null,
   "id": "ec9226de",
   "metadata": {},
   "outputs": [],
   "source": [
    "avisos.to_csv('avisos.csv')"
   ]
  }
 ],
 "metadata": {
  "kernelspec": {
   "display_name": "base",
   "language": "python",
   "name": "base"
  },
  "language_info": {
   "codemirror_mode": {
    "name": "ipython",
    "version": 3
   },
   "file_extension": ".py",
   "mimetype": "text/x-python",
   "name": "python",
   "nbconvert_exporter": "python",
   "pygments_lexer": "ipython3",
   "version": "3.9.7"
  }
 },
 "nbformat": 4,
 "nbformat_minor": 5
}
